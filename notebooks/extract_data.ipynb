{
 "cells": [
  {
   "cell_type": "code",
   "execution_count": 1,
   "metadata": {},
   "outputs": [
    {
     "name": "stdout",
     "output_type": "stream",
     "text": [
      "C:\\Users\\simon\\OneDrive\\Desktop\\git_repo\\patentAI\n"
     ]
    }
   ],
   "source": [
    "cd .."
   ]
  },
  {
   "cell_type": "code",
   "execution_count": 9,
   "metadata": {},
   "outputs": [
    {
     "data": {
      "text/plain": [
       "6"
      ]
     },
     "execution_count": 9,
     "metadata": {},
     "output_type": "execute_result"
    }
   ],
   "source": [
    "import pickle\n",
    "\n",
    "pkl_path = 'pkl_files/ipos_data/'\n",
    "output_combined = []\n",
    "for i in range(1,7):\n",
    "    path = pkl_path + str(i) + '_checkpoint.pkl'\n",
    "    with open(path, 'rb') as pklfile:\n",
    "        data = pickle.load(pklfile)[0]\n",
    "        output_combined.append(data)\n",
    "len(output_combined)"
   ]
  },
  {
   "cell_type": "code",
   "execution_count": 15,
   "metadata": {},
   "outputs": [],
   "source": [
    "app_list = [app for output in output_combined for app in output]\n",
    "len(app_list)"
   ]
  },
  {
   "cell_type": "code",
   "execution_count": 18,
   "metadata": {},
   "outputs": [],
   "source": [
    "from src.datapipeline.extract_ipos_data import process_definition, process_claim, process_intro\n",
    "from tqdm import tqdm"
   ]
  },
  {
   "cell_type": "code",
   "execution_count": 19,
   "metadata": {},
   "outputs": [
    {
     "name": "stderr",
     "output_type": "stream",
     "text": [
      "100%|████████████████████████████████████████████████████████████████████████████| 6732/6732 [00:04<00:00, 1508.34it/s]\n"
     ]
    }
   ],
   "source": [
    "processed_data = []\n",
    "for app in tqdm(app_list):\n",
    "    intro_text = process_intro(app[0])\n",
    "    claims = process_claim(app[1])\n",
    "    definitions = process_definition(app[2])\n",
    "    app_data = [intro_text, claims, definitions]\n",
    "    if (len(claims) > 1) and (len(definitions) > 1):\n",
    "        processed_data.append(app_data)"
   ]
  },
  {
   "cell_type": "code",
   "execution_count": 27,
   "metadata": {},
   "outputs": [
    {
     "name": "stdout",
     "output_type": "stream",
     "text": [
      "13479\n"
     ]
    }
   ],
   "source": [
    "count = 0\n",
    "for app in processed_data:\n",
    "    count += len(app[2])\n",
    "print(count)"
   ]
  },
  {
   "cell_type": "code",
   "execution_count": 28,
   "metadata": {},
   "outputs": [],
   "source": [
    "dataset = [[intro, claim, definition] for intro, claim, definitions in processed_data for definition in definitions]"
   ]
  },
  {
   "cell_type": "code",
   "execution_count": 30,
   "metadata": {},
   "outputs": [
    {
     "data": {
      "text/plain": [
       "['WO 2011/024734 PCT/JP2010/064128 DESCRIPTION Title of Invention ACTINIC RAY-SENSITIVE OR RADIATION-SENSITIVE RESIN COMPOSITION, AND RESIST FILM AND PATTERN FORMING METHOD USING THE SAME Technical Field The present invention relates to an actinic ray-sensitive or radiation-sensitive resin composition for use in the production process of a semiconductor device such as IC, in the production of a liquid crystal device or a circuit board such as thermal head and further in other photofabrication processes, and a pattern forming method using the composition. More specifically, the present invention relates to an actinic ray-sensitive or radiation-sensitive resin composition suitable when using a far ultraviolet ray at a wavelength of 250 nm or less, an electron beam or the like as the light source, and a resist film and a pattern forming method each using the composition. Background Art A chemical amplification resist produces an acid in the exposed area upon irradiation with radiation such as far ultraviolet light and through a reaction using the acid as a catalyst, causes a change in the developer solubility of the area irradiated with radiation and that of the non-irradiated area, thereby forming a pattern on a substrate. In the case of using a KrF excimer laser as the exposure light source, a good pattern with high sensitivity and high resolution is formed because a resin exhibiting small absorption mainly in the 248-nm region and having poly(hydroxystyrene) as the basic structure is used as the main component, and this is a good system as compared with the conventional naphthoquinone diazide/novolak resin system. On the other hand, in the case where a light source at a shorter wavelength, for example, an ArF excimer laser (193 nm) is used as the exposure light source, even the above-described chemical amplification system is not sufficient because the compound having an aromatic group inherently exhibits large absorption in the 193-nm region. Therefore, various resists for an ArF excimer laser, containing an alicyclic hydrocarbon structure, have been developed. However, in view of overall performance as a resist, it is in fact very difficult to find out an appropriate combination of a resin, a photo-acid generator, additives, a solvent and the like used. In JP-A-2006-330098 (the term \"JP-A\" as used herein means an \"unexamined published Japanese patent application\") and Japanese Patent 3,577,743, it is proposed to 1  WO 2011/024734 PCT/JP2010/064128 solve the problem (PED) related to the length of time from exposure to post-exposure bake (PEB) and satisfy the pattern profile or suppression of the line edge roughness by using a specific compound capable of decomposing upon irradiation with an actinic ray or radiation. In the latest-generation pattern formation with a line width of 45 nm or less, where an immersion process is applied, the above-described related arts are not necessarily sufficient, and more improvements are demanded in terms of line width roughness (LWR) and depth-of-focus (DOF). Summary of Invention Considering those problems in the background art, an object of the present invention is to provide an actinic ray-sensitive or radiation-sensitive resin composition improved in LWR and DOF and suitable also for an immersion process with a line width of 45 nm or less, and a resist film and a pattern forming method each using the composition. The above-described object can be attained by the following techniques. That is, the present invention includes the following configurations. (1) An actinic ray-sensitive or radiation-sensitive resin composition, comprising: (PA) a compound having a proton acceptor functional group and undergoing decomposition upon irradiation with an actinic ray or radiation to generate a compound reduced in or deprived of proton acceptor property or changed to be acidic from being proton acceptor-functioning, wherein a molar extinction coefficient e of the compound (PA) at a wavelength of 193 nm as measured in acetonitrile solvent is 55,000 or less. (2) The actinic ray-sensitive or radiation-sensitive resin composition as described in (1) above, further comprising: (Bl) a resin capable of increasing a solubility of the resin (Bl) in an alkali developer by an action of an acid, wherein the resin (Bl) contains a resin having a repeating unit represented by the following formula (V), and the compound (PA) is a compound capable of decomposing upon irradiation with an actinic ray or radiation to generate a compound represented by the following formula (PA-1): Q-ApAj-(X)n-R (PA-1) wherein Q represents -SO3H, -CO2H or -W|-NH-W2-Rf; each of X, Wj and W2 independently represents -SO2- or -CO-; Rf represents an alkyl group which may be substituted with a halogen atom, a 2 ',\n",
       " ['1. An actinic ray-sensitive or radiation-sensitive resin composition, comprising: (PA) a compound having a proton acceptor functional group and undergoing decomposition upon irradiation with an actinic ray or radiation to generate a compound reduced in or deprived of proton acceptor property or changed to be acidic from being proton acceptor-functioning, wherein a molar extinction coefficient s of the compound (PA) at a wavelength of 193 nm as measured in acetonitrile solvent is 55,000 or less; (Bl) a resin capable of increasing a solubility of the resin (Bl) in an alkali developer by an action of an acid, wherein the resin (Bl) contains a resin having a repeating unit represented by the following formula (V), and the compound (PA) is a compound capable of decomposing upon irradiation with an actinic ray or radiation to generate a compound represented by the following formula (PA-l): Q-ApAl-(X)n-R (PA-l) wherein Q represents -SO3H, -CO2H or -Wi-NH-W2-Rf; each of X, Wi and W2 independently represents -SO2- or -CO-; Rf represents an alkyl group which may be substituted with a halogen atom, a cycloalkyl group which may be substituted with a halogen atom, or an aryl group which may be substituted with a halogen atom; APAJ represents a single bond or a divalent linking group; n represents 0 or 1; R represents a monovalent organic group having a proton acceptor functional group; cr^o W ŠLRV2 Wnv wherein each of Rvi and Rv2 independently represents an alkyl group having a carbon number of 1 to 10; nv represents an integer of 1 to 6, wherein the compound (PA) is represented by the following formula (II) or (III): 122 herein each Rjs independently represents an alkyl group or a cycloalkyl group, two R^\\'s may combine with each other to form a ring; X2 represents any one of -CR2i=CR22-5 -NR23-, -S- and -0-; each of R21 to R23 independently represents a hydrogen atom, an alkyl group, a 5 cycloalkyl group, an alkoxy group or an aryl group; R24 represents an aryl group; each of R25 and R26 independently represents a hydrogen atom, an alkyl group or a cycloalkyl group, R25 and R26 may combine with each other to form a ring; each of R27 and R28 independently represents a hydrogen atom, an alkyl group, a 10 cycloalkyl group, an allyl group or a vinyl group, R27 and R2g may combine with each other to form a ring; ni represents an integer of 0 to 3; Q\\' represents -SO3-, -C02- or -WrN\"~W2-Rf; and X, Wj, W2, Rf, APAI, R and n have the same meanings as X, Wj, W2, Rf, APAI, R and n 15 in formula (PA-l).',\n",
       "  \"2. The actinic ray-sensitive or radiation-sensitive resin composition according to claim 1, wherein Q' in formula (II) or (III) is ~Wi-N'-VvVRf, 20 wherein each of Wj and W2 independently represents -SO2- or -CO-; and Rf represents an alkyl group which may be substituted with a halogen atom, a cycloalkyl group which may be substituted with a halogen atom, or an aryl group which may be substituted with a halogen atom.\",\n",
       "  '3. The actinic ray-sensitive or radiation-sensitive resin composition according to claims 1 or 2, further comprising: (C) a compound capable of generating an acid upon irradiation with an actinic ray or radiation.',\n",
       "  '4. The actinic ray-sensitive or radiation-sensitive resin composition according to any one of claims 1 to 3, wherein the resin (Bl) further has a lactone group substituted with a cyano group.',\n",
       "  \"5. The actinic ray-sensitive or radiation-sensitive resin composition according to any 35 one of claims 1 to 4, wherein the resin (Bl) contains a repeating unit having a lactone structure represented by the following formula (III): 123 Ill) :irRs wherein A represents an ester bond or an amide bond; Ro represents an alkylene group, a cycloalkylene group or a combination thereof, and when a plurality of Ro's are present, the plurality of Ro's are the same or different; 5 Z represents an ether bond, an ester bond, an amide bond, a group represented by -0-C(=0)-N(R)- or -N(R)-C(=0)-0-, or a group represented by -N(R)-C(-0)~N(R)-, and when a plurality of Z's are present, the plurality of Z's are the same or different, in which R represents a hydrogen atom, an alkyl group, a cycloalkyl group or an aryl group; Rg represents a monovalent organic group having a lactone structure; 10 n represents an integer of 1 to 5; and R7 represents a hydrogen atom, a halogen atom or an alkyl group.\",\n",
       "  '6. The actinic ray-sensitive or radiation-sensitive resin composition according to any one of claims 1 to 5, further comprising: 15 a hydrophobic resin.',\n",
       "  '7. A resist film, which is formed from the actinic ray-sensitive or radiation-sensitive resin composition according to any one of claims 1 to 6.',\n",
       "  '8. A pattern forming method, comprising: forming a resist film by using the actinic ray-sensitive or radiation-sensitive resin composition according to any one of claims 1 to 6; and exposing and developing the resist film.',\n",
       "  '9. The pattern forming method according to claim 8, wherein exposure in the exposing is immersion exposure.',\n",
       "  '10. The actinic ray-sensitive or radiation-sensitive resin composition according to claim 1, wherein said APAI represents an alkylene group having at least one fluorine atom and 30 2 to 12 carbon atoms.',\n",
       "  '1. The actinic ray-sensitive or radiation-sensitive resin composition according to claim 1, wherein the resin (Bl) further contains a repeating unit represented by formula (I), in addition to the repeating unit represented by formula (V), It cr \"^o 10 rvni R J 15 wherein R] independently represents a hydrogen atom, a methyl group which may have a substituent, or a group represented by -CH2-R9; R2, independently represents an alkyl group or a cycloalkyl group; and R represents an atomic group necessary for forming an alicyciic structure together with the carbon atom.',\n",
       "  \"12. The actinic ray-sensitive or radiation-sensitive resin composition according to claim 1, wherein the resin composition further contains a compound represented by formula (A), (4»-(^A) m n m 25 wherein each Ra independently represents a hydrogen atom, an alkyl group, a cycloalkyl group, an aryl group or an aralkyl group; each Rb independently represents a hydrogen atom, an alkyl group, a cycloalkyl group, an aryl group or an aralkyl group, provided that in -C(Rb)(Rb)(Rb), when one or more Rb's are a hydrogen atom, at least one of remaining Rb's is a cyclopropyi group or a 1-30 alkoxyalkyi group; each of the alkyl group, cycloalkyl group, aryl group and aralkyl group of Ra and Rb is optionally substituted with a functional group selected from the group consisting of: hydroxyl group, cyano group, amino group, pyrrolidino group, piperidino group, morpholino group and oxo group, an alkoxy group or a halogen atom; 35 n represents an integer of 0 to 2; m represents an integer of 1 to 3; wherein n+m=3; 125 herein n-2, two Ra's may be the same or different, and two Ra's may combine with each other to form a divalent heterocyclic hydrocarbon group or a derivative thereof; and wherein at least two Rb's may combine to form an alicyciic hydrocarbon group, an aromatic hydrocarbon group, a heterocyclic hydrocarbon group or a derivative thereof.\"],\n",
       " 'the term \"JP-A\" as used herein means an \"unexamined published Japanese patent application\") and Japanese Patent 3,577,743, it is proposed to 1 O 2011/024734 PCT/JP2010/064128 solve the problem (PED) related to the length of time from exposure to post-exposure bake (PEB) and satisfy the pattern profile or suppression of the line edge roughness by using a specific compound capable of decomposing upon irradiation with an actinic ray or radiation.']"
      ]
     },
     "execution_count": 30,
     "metadata": {},
     "output_type": "execute_result"
    }
   ],
   "source": [
    "dataset[0]"
   ]
  },
  {
   "cell_type": "code",
   "execution_count": 31,
   "metadata": {},
   "outputs": [],
   "source": [
    "save_path = 'pkl_files/sample_data/ipos_data.pkl'\n",
    "with open(save_path, 'wb') as file:\n",
    "    pickle.dump(dataset, file)"
   ]
  },
  {
   "cell_type": "code",
   "execution_count": null,
   "metadata": {},
   "outputs": [],
   "source": []
  }
 ],
 "metadata": {
  "kernelspec": {
   "display_name": "Python 3",
   "language": "python",
   "name": "python3"
  },
  "language_info": {
   "codemirror_mode": {
    "name": "ipython",
    "version": 3
   },
   "file_extension": ".py",
   "mimetype": "text/x-python",
   "name": "python",
   "nbconvert_exporter": "python",
   "pygments_lexer": "ipython3",
   "version": "3.6.5"
  }
 },
 "nbformat": 4,
 "nbformat_minor": 4
}
