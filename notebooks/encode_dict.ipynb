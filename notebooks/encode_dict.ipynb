{
 "cells": [
  {
   "cell_type": "code",
   "execution_count": 1,
   "metadata": {},
   "outputs": [
    {
     "name": "stdout",
     "output_type": "stream",
     "text": [
      "/home/simonchuth/Desktop/git_repo/patentAI\n"
     ]
    }
   ],
   "source": [
    "cd .."
   ]
  },
  {
   "cell_type": "code",
   "execution_count": 2,
   "metadata": {},
   "outputs": [
    {
     "data": {
      "text/plain": [
       "6"
      ]
     },
     "execution_count": 2,
     "metadata": {},
     "output_type": "execute_result"
    }
   ],
   "source": [
    "import pickle\n",
    "\n",
    "pkl_path = 'pkl_files/ipos_data/'\n",
    "output_combined = []\n",
    "for i in range(1,7):\n",
    "    path = pkl_path + str(i) + '_checkpoint.pkl'\n",
    "    with open(path, 'rb') as pklfile:\n",
    "        data = pickle.load(pklfile)[0]\n",
    "        output_combined.append(data)\n",
    "len(output_combined)"
   ]
  },
  {
   "cell_type": "code",
   "execution_count": 3,
   "metadata": {},
   "outputs": [],
   "source": [
    "from tqdm import tqdm"
   ]
  },
  {
   "cell_type": "code",
   "execution_count": null,
   "metadata": {},
   "outputs": [
    {
     "name": "stderr",
     "output_type": "stream",
     "text": [
      "\r",
      "  0%|          | 0/6 [00:00<?, ?it/s]"
     ]
    }
   ],
   "source": [
    "unique_word = set()\n",
    "for output in tqdm(output_combined):\n",
    "    for app in output:\n",
    "        for page in app[3]:\n",
    "            unique_word = unique_word.union(set(page.replace('\\n', ' ').replace('  ',' ').split(' ')))\n",
    "            \n",
    "len(unique_word)"
   ]
  },
  {
   "cell_type": "code",
   "execution_count": 6,
   "metadata": {},
   "outputs": [
    {
     "data": {
      "text/plain": [
       "\"\\n1 A SYSTEM AND A METHOD FOR METERING AND ADDING FIBRES TO A CEMENT MATRIX\\nThe present invention relates to the sector of production of artificial\\nconglomerates for use as construction materials, and in particular to the\\nsector of machinery and systems for its industrial production. The\\ninvention has been developed with particular reference to a system and a\\nmethod for metering and adding fibres to a 'cement matrix.\\nTheproductionofartificialconglomeratesas construction materials is nowadays\\ncarried out by centralised or on-site plant comprising an automatic\\nproduction management system. The composition of the conglomerates is\\nclosely linked to the requirements that they have to satisfy and has to\\ntake account of many variables such as mechanical strength, durability,\\nworkability, casting method, maturation and the like.       It is also\\nknown to meter and add fibres, made from both metal and synthetic\\nmaterials, to construction materials such as concrete, mortar or cement\\nwhen they are still in their fluid state. The addition of these fibres\\nmakes it possible to modify and improve the technical properties of the\\nmaterials and at the same time to resolve a whole range of problems\\ntypical, for instance, of cement conglomerate or lime-based products.\\nIt is known in particular to provide synthetic fibres in containers, for\\ninstance sacks, so that a skilled operator can add a predetermined quantity\\nof these fibres directly to the cement matrix in accordance with the\\nproperties with which it is intended to provide the final product. \""
      ]
     },
     "execution_count": 6,
     "metadata": {},
     "output_type": "execute_result"
    }
   ],
   "source": [
    "app_list[0][3][0]"
   ]
  },
  {
   "cell_type": "code",
   "execution_count": null,
   "metadata": {},
   "outputs": [],
   "source": [
    "full_text = [' '.join(app[3]).replace('\\n','') for app in app_list]"
   ]
  },
  {
   "cell_type": "code",
   "execution_count": null,
   "metadata": {},
   "outputs": [],
   "source": [
    "combined_text = ' '.join(full_text).replace('  ', ' ')"
   ]
  },
  {
   "cell_type": "code",
   "execution_count": null,
   "metadata": {},
   "outputs": [],
   "source": [
    "tokens = set(combined_text.split(' '))"
   ]
  },
  {
   "cell_type": "code",
   "execution_count": null,
   "metadata": {},
   "outputs": [],
   "source": [
    "len(tokens)"
   ]
  },
  {
   "cell_type": "code",
   "execution_count": null,
   "metadata": {},
   "outputs": [],
   "source": []
  }
 ],
 "metadata": {
  "kernelspec": {
   "display_name": "Python 3",
   "language": "python",
   "name": "python3"
  },
  "language_info": {
   "codemirror_mode": {
    "name": "ipython",
    "version": 3
   },
   "file_extension": ".py",
   "mimetype": "text/x-python",
   "name": "python",
   "nbconvert_exporter": "python",
   "pygments_lexer": "ipython3",
   "version": "3.6.5"
  }
 },
 "nbformat": 4,
 "nbformat_minor": 4
}
