{
 "cells": [
  {
   "cell_type": "markdown",
   "metadata": {},
   "source": [
    "# Encoding"
   ]
  },
  {
   "cell_type": "code",
   "execution_count": 1,
   "metadata": {},
   "outputs": [
    {
     "name": "stdout",
     "output_type": "stream",
     "text": [
      "/home/simonchuth/Desktop/git_repo/patentAI\n"
     ]
    }
   ],
   "source": [
    "cd .."
   ]
  },
  {
   "cell_type": "code",
   "execution_count": 2,
   "metadata": {},
   "outputs": [],
   "source": [
    "import tensorflow_hub as hub\n",
    "from tensorflow_text import SentencepieceTokenizer\n",
    "import tensorflow as tf"
   ]
  },
  {
   "cell_type": "code",
   "execution_count": 3,
   "metadata": {},
   "outputs": [],
   "source": [
    "encoder_path = 'encoder/use4_model/'\n",
    "encoder = hub.load(encoder_path)"
   ]
  },
  {
   "cell_type": "code",
   "execution_count": 4,
   "metadata": {},
   "outputs": [],
   "source": [
    "import pickle\n",
    "pkl_path = 'pkl_files/sample_data/ipos_data.pkl'\n",
    "with open(pkl_path, 'rb') as pkl_file:\n",
    "    dataset = pickle.load(pkl_file)"
   ]
  },
  {
   "cell_type": "code",
   "execution_count": 5,
   "metadata": {},
   "outputs": [],
   "source": [
    "import random"
   ]
  },
  {
   "cell_type": "code",
   "execution_count": 6,
   "metadata": {},
   "outputs": [],
   "source": [
    "random.Random(1).shuffle(dataset)"
   ]
  },
  {
   "cell_type": "code",
   "execution_count": 7,
   "metadata": {},
   "outputs": [],
   "source": [
    "test_ratio = 0.1\n",
    "test_size = int(len(dataset) * test_ratio)\n",
    "test_set = dataset[:test_size]\n",
    "train_set = dataset[test_size:]\n",
    "half_train = int(len(train_set)/2)\n",
    "train_set_1 = train_set[:half_train]\n",
    "train_set_2 = train_set[half_train:]"
   ]
  },
  {
   "cell_type": "code",
   "execution_count": 8,
   "metadata": {},
   "outputs": [],
   "source": [
    "from tqdm import tqdm\n",
    "import re\n",
    "from tensorflow.keras.preprocessing.text import text_to_word_sequence\n",
    "import numpy as np\n",
    "term_pattern = r'\".+?\"'"
   ]
  },
  {
   "cell_type": "code",
   "execution_count": 9,
   "metadata": {
    "scrolled": true
   },
   "outputs": [],
   "source": [
    "end_word = np.zeros((1,512))\n",
    "end_tensor = tf.convert_to_tensor(end_word)\n",
    "end_tensor = tf.cast(end_tensor, tf.float32)"
   ]
  },
  {
   "cell_type": "code",
   "execution_count": 10,
   "metadata": {},
   "outputs": [],
   "source": [
    "def encode(dataset):\n",
    "    context_tensor = []\n",
    "    target_tensor = []\n",
    "    terms = []\n",
    "    for app in tqdm(dataset):\n",
    "        intro = app[0]\n",
    "        claims = ' '.join(app[1])\n",
    "        context = [intro, claims]\n",
    "        context = encoder(context)\n",
    "        context = tf.reshape(context, [1,1024])\n",
    "\n",
    "        definition = app[2]\n",
    "        term = re.findall(term_pattern, definition)[0]\n",
    "        term_tensor = encoder([term])\n",
    "        definition_tokens = text_to_word_sequence(definition)\n",
    "        definition_tokens.append('STOPSTOPSTOP')\n",
    "        for i in range(4, len(definition_tokens)):\n",
    "            pre_word = ' '.join(definition_tokens[:i])\n",
    "            target_word = definition_tokens[i]\n",
    "            pre_word_tensor = encoder([pre_word])\n",
    "            target_word_tensor = encoder([target_word])\n",
    "            context_combined = tf.concat([context, term_tensor, pre_word_tensor], axis=1)\n",
    "            context_tensor.append(context_combined)\n",
    "            target_tensor.append(target_word_tensor)\n",
    "            terms.append(term)\n",
    "    return context_tensor, target_tensor, terms"
   ]
  },
  {
   "cell_type": "code",
   "execution_count": 11,
   "metadata": {},
   "outputs": [
    {
     "name": "stderr",
     "output_type": "stream",
     "text": [
      "100%|██████████| 6066/6066 [16:14<00:00,  6.23it/s]   \n"
     ]
    }
   ],
   "source": [
    "context_tensor, target_tensor, terms = encode(train_set_2)"
   ]
  },
  {
   "cell_type": "code",
   "execution_count": 12,
   "metadata": {},
   "outputs": [],
   "source": [
    "train_pkl = 'pkl_files/sample_data/2_train_tensor.pkl'\n",
    "\n",
    "combine = [context_tensor, target_tensor, terms]\n",
    "with open(train_pkl, 'wb') as pkl_file:\n",
    "    pickle.dump(combine, pkl_file)"
   ]
  },
  {
   "cell_type": "code",
   "execution_count": 11,
   "metadata": {},
   "outputs": [
    {
     "name": "stderr",
     "output_type": "stream",
     "text": [
      "100%|██████████| 1347/1347 [03:37<00:00,  6.20it/s]\n"
     ]
    }
   ],
   "source": [
    "context_tensor, target_tensor, terms = encode(test_set)\n",
    "test_pkl = 'pkl_files/sample_data/test_tensor.pkl'\n",
    "\n",
    "combine = [context_tensor, target_tensor, terms]\n",
    "with open(test_pkl, 'wb') as pkl_file:\n",
    "    pickle.dump(combine, pkl_file)"
   ]
  },
  {
   "cell_type": "markdown",
   "metadata": {},
   "source": [
    "# Model building"
   ]
  },
  {
   "cell_type": "code",
   "execution_count": null,
   "metadata": {},
   "outputs": [],
   "source": [
    "from tensorflow.keras import Sequential"
   ]
  }
 ],
 "metadata": {
  "kernelspec": {
   "display_name": "Python 3",
   "language": "python",
   "name": "python3"
  },
  "language_info": {
   "codemirror_mode": {
    "name": "ipython",
    "version": 3
   },
   "file_extension": ".py",
   "mimetype": "text/x-python",
   "name": "python",
   "nbconvert_exporter": "python",
   "pygments_lexer": "ipython3",
   "version": "3.6.5"
  }
 },
 "nbformat": 4,
 "nbformat_minor": 4
}
